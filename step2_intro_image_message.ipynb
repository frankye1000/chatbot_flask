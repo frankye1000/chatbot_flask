{
 "cells": [
  {
   "cell_type": "code",
   "execution_count": 2,
   "metadata": {},
   "outputs": [
    {
     "name": "stderr",
     "output_type": "stream",
     "text": [
      " * Running on http://0.0.0.0:5000/ (Press CTRL+C to quit)\n"
     ]
    },
    {
     "name": "stdout",
     "output_type": "stream",
     "text": [
      "{\"message\": {\"id\": \"7295236483973\", \"type\": \"image\"}, \"replyToken\": \"21c19c736dea4db4854ef61b4487e4a5\", \"source\": {\"type\": \"user\", \"userId\": \"U0bc9c3e3b5de7dd56e1388f8241cd29d\"}, \"timestamp\": 1515693029803, \"type\": \"message\"}\n"
     ]
    },
    {
     "name": "stderr",
     "output_type": "stream",
     "text": [
      "172.17.0.1 - - [11/Jan/2018 17:50:30] \"POST / HTTP/1.1\" 200 -\n"
     ]
    }
   ],
   "source": [
    "from flask import Flask, request, abort\n",
    "\n",
    "from linebot import (\n",
    "    LineBotApi, WebhookHandler\n",
    ")\n",
    "from linebot.exceptions import (\n",
    "    InvalidSignatureError\n",
    ")\n",
    "from linebot.models import (\n",
    "    MessageEvent, TextMessage, TextSendMessage, ImageMessage,ImageSendMessage\n",
    ")\n",
    "\n",
    "app = Flask(__name__,static_url_path = \"/images\" , static_folder = \"./images/\" )\n",
    "\n",
    "# create a instance for line\n",
    "# line_bot_api 用來處理消息\n",
    "line_bot_api = LineBotApi('81hQGdpPXjmpCwm9EyR84b262JW3bBUfECQj0nEWs0FyWZ3WWSBXxqtvuJ98N5VcyQCvHsWz1xkBLa07rLVAPF9weQxL4wP5YJB3xxMTAw1h/G2rjKmnmnKMhJjfMFq9wEUlTCCRqcw8VN8b+x0sqwdB04t89/1O/w1cDnyilFU=')\n",
    "\n",
    "# 用來接收外部消息\n",
    "handler = WebhookHandler('fbc80a3e7c8200bcfbe59100a8da5def')\n",
    "\n",
    "@app.route(\"/\", methods=['POST'])\n",
    "def callback():\n",
    "    # get X-Line-Signature header value\n",
    "    signature = request.headers['X-Line-Signature']\n",
    "\n",
    "    # get request body as text\n",
    "    body = request.get_data(as_text=True)\n",
    "    app.logger.info(\"Request body: \" + body)\n",
    "\n",
    "    # handle webhook body 驗證封包是否來自Line\n",
    "    try:\n",
    "        handler.handle(body, signature)\n",
    "    except InvalidSignatureError:\n",
    "        abort(400)\n",
    "\n",
    "    return 'OK'\n",
    "\n",
    "@handler.add(MessageEvent, message=TextMessage)\n",
    "def handle_message(event):\n",
    "    line_bot_api.reply_message(\n",
    "        event.reply_token,\n",
    "        TextSendMessage(text=event.message.text))\n",
    "    line_bot_api.push_message(\n",
    "        'U0bc9c3e3b5de7dd56e1388f8241cd29d',\n",
    "        TextSendMessage(text=\"這是推送消息\")\n",
    "    )\n",
    "    \n",
    "# 圖片連結必須為https\n",
    "@handler.add(MessageEvent, message=ImageMessage)\n",
    "def handle_image_message(event):\n",
    "    print(event)\n",
    "    line_bot_api.reply_message(\n",
    "        event.reply_token,\n",
    "        ImageSendMessage(\n",
    "            original_content_url='https://www.longines.hk/uploads/ambassador/part1/eddie-peng-longines-ambassador-800x996.jpg',\n",
    "            preview_image_url='https://www.longines.hk/uploads/ambassador/part2/eddie-peng-longines-ambassador-1600x1432.jpg')\n",
    "    )\n",
    "    line_bot_api.push_message(\n",
    "        'U0bc9c3e3b5de7dd56e1388f8241cd29d',\n",
    "        ImageSendMessage(\n",
    "            original_content_url='https://www.longines.hk/uploads/ambassador/part1/eddie-peng-longines-ambassador-800x996.jpg',\n",
    "            preview_image_url='https://www.longines.hk/uploads/ambassador/part1/eddie-peng-longines-ambassador-800x996.jpg')\n",
    "    )\n",
    "        \n",
    " \n",
    "if __name__ == \"__main__\":\n",
    "    app.run(host='0.0.0.0')"
   ]
  },
  {
   "cell_type": "code",
   "execution_count": null,
   "metadata": {
    "collapsed": true
   },
   "outputs": [],
   "source": []
  }
 ],
 "metadata": {
  "kernelspec": {
   "display_name": "Python 3",
   "language": "python",
   "name": "python3"
  },
  "language_info": {
   "codemirror_mode": {
    "name": "ipython",
    "version": 3
   },
   "file_extension": ".py",
   "mimetype": "text/x-python",
   "name": "python",
   "nbconvert_exporter": "python",
   "pygments_lexer": "ipython3",
   "version": "3.6.3"
  }
 },
 "nbformat": 4,
 "nbformat_minor": 2
}
